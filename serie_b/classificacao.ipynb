{
 "cells": [
  {
   "cell_type": "code",
   "execution_count": null,
   "metadata": {},
   "outputs": [],
   "source": [
    "import requests\n",
    "import pandas as pd\n",
    "\n",
    "def get_rodada_df(req):\n",
    "    partida_content = []\n",
    "    for partida in req.json():\n",
    "        equipe_mandante = partida['equipes']['mandante']['sigla']\n",
    "        equipe_visitante = partida['equipes']['visitante']['sigla']\n",
    "        gols_mandante = partida['placar_oficial_mandante']\n",
    "        gols_visitante = partida['placar_oficial_visitante']\n",
    "        sg_mandante = gols_mandante - gols_visitante\n",
    "        sg_visitante = gols_visitante - gols_mandante\n",
    "        if gols_mandante > gols_visitante:\n",
    "            pts_mandante = 3\n",
    "            pts_visitante = 0\n",
    "        elif gols_visitante > gols_mandante:\n",
    "            pts_mandante = 0\n",
    "            pts_visitante = 3\n",
    "        elif gols_mandante == gols_visitante:\n",
    "            pts_mandante = 1\n",
    "            pts_visitante = 1\n",
    "        partida_content.append([equipe_mandante, pts_mandante, gols_mandante, gols_visitante, sg_mandante])\n",
    "        partida_content.append([equipe_visitante, pts_visitante, gols_visitante, gols_mandante, sg_visitante])\n",
    "    \n",
    "    return pd.DataFrame(partida_content, columns=['EQUIPE', 'PONTOS', 'GP', 'GC', 'SG'])\n",
    "\n",
    "\n",
    "url = r\"https://api.globoesporte.globo.com/tabela/009b5a68-dd09-46b8-95b3-293a2d494366/fase/brasileiro-serie-b-2024-fase-unica/rodada/{}/jogos/\"\n",
    "\n",
    "complete_championship = pd.DataFrame()\n",
    "for match_number in range(1, 37):\n",
    "    req_rodada = requests.get(url.format(match_number))\n",
    "    df_rodada = get_rodada_df(req=req_rodada)\n",
    "    if match_number == 1:\n",
    "        df_rodada['RODADA'] = match_number\n",
    "        complete_championship = pd.concat([complete_championship, df_rodada])\n",
    "    else:\n",
    "        copy_acumulated = complete_championship.copy()\n",
    "        copy_acumulated = copy_acumulated.query('RODADA == @match_number-1').drop(columns=['RODADA'])\n",
    "        new_df_rodada = pd.concat([copy_acumulated, df_rodada],ignore_index=True).groupby(['EQUIPE']).sum().reset_index()\n",
    "        new_df_rodada['RODADA'] = match_number\n",
    "        complete_championship = pd.concat([complete_championship, new_df_rodada])\n",
    "complete_championship.to_excel('classificacao_serie_b.xlsx', index=False)"
   ]
  }
 ],
 "metadata": {
  "kernelspec": {
   "display_name": "bot",
   "language": "python",
   "name": "python3"
  },
  "language_info": {
   "name": "python",
   "version": "3.10.14"
  }
 },
 "nbformat": 4,
 "nbformat_minor": 2
}
